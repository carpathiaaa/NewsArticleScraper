{
 "cells": [
  {
   "cell_type": "code",
   "execution_count": 1,
   "id": "7839ecac",
   "metadata": {},
   "outputs": [],
   "source": [
    "import pandas as pd\n",
    "import numpy as np"
   ]
  },
  {
   "cell_type": "code",
   "execution_count": 2,
   "id": "e9422e0b",
   "metadata": {},
   "outputs": [],
   "source": [
    "df = pd.read_csv('InquirerScrape.csv')"
   ]
  },
  {
   "cell_type": "code",
   "execution_count": 3,
   "id": "ecb5dbb0",
   "metadata": {},
   "outputs": [
    {
     "name": "stdout",
     "output_type": "stream",
     "text": [
      "Dataset Shape: (17, 7)\n",
      "Columns: ['Categories', 'Titles', 'Links', 'Date', 'Time', 'Publisher', 'Article']\n"
     ]
    }
   ],
   "source": [
    "print('Dataset Shape:', df.shape)\n",
    "print('Columns:', df.columns.tolist())"
   ]
  },
  {
   "cell_type": "code",
   "execution_count": 4,
   "id": "e5d0446a",
   "metadata": {},
   "outputs": [
    {
     "data": {
      "text/plain": [
       "Categories    object\n",
       "Titles        object\n",
       "Links         object\n",
       "Date          object\n",
       "Time          object\n",
       "Publisher     object\n",
       "Article       object\n",
       "dtype: object"
      ]
     },
     "execution_count": 4,
     "metadata": {},
     "output_type": "execute_result"
    }
   ],
   "source": [
    "df.dtypes"
   ]
  },
  {
   "cell_type": "code",
   "execution_count": 5,
   "id": "9579a743",
   "metadata": {},
   "outputs": [
    {
     "data": {
      "text/plain": [
       "Categories    0\n",
       "Titles        0\n",
       "Links         0\n",
       "Date          1\n",
       "Time          1\n",
       "Publisher     0\n",
       "Article       0\n",
       "dtype: int64"
      ]
     },
     "execution_count": 5,
     "metadata": {},
     "output_type": "execute_result"
    }
   ],
   "source": [
    "df.isnull().sum()"
   ]
  },
  {
   "cell_type": "code",
   "execution_count": 9,
   "id": "7d9ffaca",
   "metadata": {},
   "outputs": [
    {
     "name": "stdout",
     "output_type": "stream",
     "text": [
      "Average Article Length: 3003.176470588235\n",
      "Max Article Length: 7201\n",
      "Min Article Length: 426\n"
     ]
    }
   ],
   "source": [
    "df['Article_Length'] = df['Article'].str.len()\n",
    "print('Average Article Length:', df['Article_Length'].mean())\n",
    "print('Max Article Length:', df['Article_Length'].max())\n",
    "print('Min Article Length:', df['Article_Length'].min())"
   ]
  },
  {
   "cell_type": "code",
   "execution_count": 10,
   "id": "48b75ab7",
   "metadata": {},
   "outputs": [
    {
     "data": {
      "text/plain": [
       "Categories\n",
       "globalnation     4\n",
       "newsinfo         4\n",
       "entertainment    2\n",
       "business         2\n",
       "sports           1\n",
       "inqfocus         1\n",
       "Brandroom        1\n",
       "Property         1\n",
       "bandera          1\n",
       "Name: count, dtype: int64"
      ]
     },
     "execution_count": 10,
     "metadata": {},
     "output_type": "execute_result"
    }
   ],
   "source": [
    "df['Categories'].value_counts()"
   ]
  },
  {
   "cell_type": "code",
   "execution_count": 11,
   "id": "c9300885",
   "metadata": {},
   "outputs": [],
   "source": [
    "import spacy\n",
    "from collections import Counter"
   ]
  },
  {
   "cell_type": "code",
   "execution_count": 12,
   "id": "536da3c5",
   "metadata": {},
   "outputs": [],
   "source": [
    "nlp = spacy.load(\"en_core_web_sm\")"
   ]
  },
  {
   "cell_type": "code",
   "execution_count": 15,
   "id": "06e68047",
   "metadata": {},
   "outputs": [],
   "source": [
    "test_article = df['Article'].iloc[0]\n",
    "test_title = df['Titles'].iloc[0]\n",
    "test_category = df['Categories'].iloc[0]"
   ]
  },
  {
   "cell_type": "code",
   "execution_count": 16,
   "id": "1593b577",
   "metadata": {},
   "outputs": [
    {
     "name": "stdout",
     "output_type": "stream",
     "text": [
      "Title: ICC prosecutor asks court to deny Duterte bid to delay ruling\n",
      "Category: globalnation\n",
      "Article length: 3095 characters\n",
      "First 200 characters:  Former President Rodrigo Duterte at the International Criminal Court. Screengrabbed from the ICC.  MANILA, Philippines — The prosecutor of the International Criminal Court (ICC) has formally asked th...\n"
     ]
    }
   ],
   "source": [
    "print(f\"Title: {test_title}\")\n",
    "print(f\"Category: {test_category}\")\n",
    "print(f\"Article length: {len(test_article)} characters\")\n",
    "print(f\"First 200 characters: {test_article[:200]}...\")"
   ]
  },
  {
   "cell_type": "code",
   "execution_count": 17,
   "id": "fa4bd85e",
   "metadata": {},
   "outputs": [
    {
     "name": "stdout",
     "output_type": "stream",
     "text": [
      "Number of entities in the article: 32\n"
     ]
    }
   ],
   "source": [
    "doc = nlp(test_article)\n",
    "print(f'Number of entities in the article: {len(doc.ents)}')"
   ]
  },
  {
   "cell_type": "code",
   "execution_count": null,
   "id": "99214304",
   "metadata": {},
   "outputs": [],
   "source": [
    "entities_by_type = {}\n",
    "\n",
    "for ent in doc.ents:\n",
    "    if ent.label_ not in entities_by_type:\n",
    "        entities_by_type[ent.label_] = []\n",
    "    entities_by_type[ent.label_].append(ent.text)\n",
    "\n",
    "for ent_type, entities in entities_by_type.items():\n",
    "    print(f\"{ent_type}: {len(entities)} entities\")\n",
    "\n",
    "    entity_counts = Counter(entities)\n",
    "    for entity, count in entity_counts.most_common(10):\n",
    "        print(f\"  {entity}: {count} mentions\")\n"
   ]
  }
 ],
 "metadata": {
  "kernelspec": {
   "display_name": ".venv",
   "language": "python",
   "name": "python3"
  },
  "language_info": {
   "codemirror_mode": {
    "name": "ipython",
    "version": 3
   },
   "file_extension": ".py",
   "mimetype": "text/x-python",
   "name": "python",
   "nbconvert_exporter": "python",
   "pygments_lexer": "ipython3",
   "version": "3.13.5"
  }
 },
 "nbformat": 4,
 "nbformat_minor": 5
}
